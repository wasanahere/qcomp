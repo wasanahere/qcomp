{
 "cells": [
  {
   "metadata": {},
   "cell_type": "code",
   "outputs": [],
   "execution_count": null,
   "source": "import numpy as np",
   "id": "d1d631fdf67f8bbb"
  },
  {
   "cell_type": "code",
   "id": "initial_id",
   "metadata": {
    "collapsed": true,
    "ExecuteTime": {
     "end_time": "2025-01-11T16:19:24.216116Z",
     "start_time": "2025-01-11T16:19:24.202100Z"
    }
   },
   "source": [
    "# Class for a state\n",
    "\n",
    "\n",
    "def new_state(n_qubit, *args):\n",
    "        # if a and b are none then initialize to a random valid state\n",
    "        # if only one is given initliaze the other one using the normalization constraint\n",
    "        # if a and b are given, then initialize the state\n",
    "\n",
    "    valid = True\n",
    "    for num in args:\n",
    "        if not type(num) is complex and not type(num) is int and not type(num) is float:\n",
    "            valid = False\n",
    "\n",
    "    if not valid:\n",
    "        raise ValueError(\"Given input is invalid, only complex numbers are valid.\")\n",
    "\n",
    "    if len(args) == 0:\n",
    "        state = np.random.random(2 ** n_qubit) # samples from [0, 1)\n",
    "        state = state / np.linalg.norm(state)\n",
    "\n",
    "    elif len(args) == 2 ** n_qubit:\n",
    "        state = np.array(args)\n",
    "        if not np.isclose(np.linalg.norm(state), 1):\n",
    "            raise ValueError(\"Given input is not a valid state, the norm is not 1.\")\n",
    "\n",
    "    else:\n",
    "        pass\n",
    "\n",
    "\n",
    "miau = [1 + 2j, 1 + 6j, 9.6, 4, \"w\"]\n",
    "for num in miau:\n",
    "    if type(num) is complex:\n",
    "        print(1)\n",
    "    if type(num) is int:\n",
    "        print(2)\n",
    "    if type(num) is float:\n",
    "        print(3)\n"
   ],
   "outputs": [
    {
     "name": "stdout",
     "output_type": "stream",
     "text": [
      "1\n",
      "1\n",
      "3\n",
      "2\n"
     ]
    }
   ],
   "execution_count": 13
  },
  {
   "metadata": {},
   "cell_type": "code",
   "outputs": [],
   "execution_count": null,
   "source": [
    "\n",
    "\n",
    "meow = np.random.rand(4)\n",
    "meow = meow / np.linalg.norm(meow)\n",
    "\n",
    "\n",
    "meow = meow[:2] + meow[2:] * 1j"
   ],
   "id": "b41ee66eb195b6da"
  },
  {
   "metadata": {},
   "cell_type": "markdown",
   "source": [
    "i need for init i need number of qubit and some array as an initialization which i can automatically set, but i check if its a valid state for the number of qubits. if no initiliaztion is given then i generate a random unit vector and rearrange that to be a complex unit vector.\n",
    "\n",
    "prove that two random processes are the same, sets are the same and the distribution were sampling from are the same, because to inf, the sample dist becomes the population dist\n",
    "\n",
    "think of the sample as random variables... and then try to reason about them"
   ],
   "id": "709c8c0bb9f99ff5"
  },
  {
   "metadata": {},
   "cell_type": "code",
   "outputs": [],
   "execution_count": null,
   "source": "",
   "id": "4982a8f5bf45c13e"
  }
 ],
 "metadata": {
  "kernelspec": {
   "display_name": "Python 3",
   "language": "python",
   "name": "python3"
  },
  "language_info": {
   "codemirror_mode": {
    "name": "ipython",
    "version": 2
   },
   "file_extension": ".py",
   "mimetype": "text/x-python",
   "name": "python",
   "nbconvert_exporter": "python",
   "pygments_lexer": "ipython2",
   "version": "2.7.6"
  }
 },
 "nbformat": 4,
 "nbformat_minor": 5
}
