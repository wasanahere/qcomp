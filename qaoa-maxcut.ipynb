{
 "cells": [
  {
   "metadata": {},
   "cell_type": "markdown",
   "source": "# QAOA for the Max Cut problem",
   "id": "2aae99b94c45e80e"
  },
  {
   "metadata": {},
   "cell_type": "markdown",
   "source": [
    "1. explain the qaoa algorithm for maxcut\n",
    "2. implement the quantum circuit using my simulator\n",
    "3. try to solve the graph problems using simulator for n = 5 using an optimizer\n",
    "4. what initial parameters and optimizer can i change for my simulator\n",
    "5. what is the performance metric? how does it perform on bigger graphs? generate 3 different graphs for each size, scale that up, keep track of runtime\n",
    "6. use openqaoa to solve the problems and compare.\n",
    "7. what are some relevant graphs that we want to solve? can it solve them?\n",
    "8. whisker box plot for each n\n"
   ],
   "id": "4053943b3ecc9c6b"
  },
  {
   "metadata": {},
   "cell_type": "markdown",
   "source": [
    "combinatorial optimization has only discrete variables that describe the task. the solution set is a subset of the discrete set of initialization\n",
    "the max cut problem is rewritten as weighted max sat.\n",
    "relate this to the sat problem and 3 sat maybe?\n"
   ],
   "id": "65a57660d78a9840"
  },
  {
   "metadata": {
    "ExecuteTime": {
     "end_time": "2025-01-26T21:17:02.680051Z",
     "start_time": "2025-01-26T21:17:02.664174Z"
    }
   },
   "cell_type": "code",
   "source": [
    "# Import statements\n",
    "from pennylane import qaoa\n",
    "from pennylane import numpy as np\n",
    "from pennylane import qulacs\n",
    "from matplotlib import pyplot as plt\n",
    "import networkx as nx"
   ],
   "id": "223d58e4361f5b02",
   "outputs": [],
   "execution_count": 4
  },
  {
   "metadata": {
    "ExecuteTime": {
     "end_time": "2025-01-26T22:10:12.915286Z",
     "start_time": "2025-01-26T22:10:12.904182Z"
    }
   },
   "cell_type": "code",
   "source": "SEED = 420",
   "id": "67b0f9c47883124d",
   "outputs": [],
   "execution_count": 15
  },
  {
   "metadata": {
    "ExecuteTime": {
     "end_time": "2025-01-26T22:10:56.215249Z",
     "start_time": "2025-01-26T22:10:56.031653Z"
    }
   },
   "cell_type": "code",
   "source": [
    "graph = nx.complete_graph(3)\n",
    "positions = nx.spring_layout(graph, seed=SEED)\n",
    "nx.draw(graph, with_labels=True, pos=positions)"
   ],
   "id": "cab4598ed475fcf",
   "outputs": [
    {
     "data": {
      "text/plain": [
       "<Figure size 640x480 with 1 Axes>"
      ],
      "image/png": "[encoded data removed]"
     },
     "metadata": {},
     "output_type": "display_data"
    }
   ],
   "execution_count": 18
  },
  {
   "metadata": {
    "ExecuteTime": {
     "end_time": "2025-01-26T22:12:57.312612Z",
     "start_time": "2025-01-26T22:12:57.282285Z"
    }
   },
   "cell_type": "code",
   "source": [
    "def qaoa_maxcut(g, depth, updates):\n",
    "    cost_h, mixer_h = qaoa.maxcut(g)\n",
    "\n",
    "    def qaoa_layer(gamma, beta):\n",
    "        qaoa.cost_layer(gamma, cost_h)\n",
    "        qaoa.mixer_layer(beta, mixer_h)\n",
    "\n",
    "    qubits = range(g.order())\n",
    "\n",
    "    def circuit(ps, **kwargs):\n",
    "        for q in qubits:\n",
    "            qml.Hadamard(wires=q)\n",
    "        qml.layer(qaoa_layer, depth, ps[0], ps[1])\n",
    "\n",
    "    dev = qml.device(\"qulacs.simulator\", wires=qubits)\n",
    "\n",
    "    @qml.qnode(dev)\n",
    "    def cost_function(ps):\n",
    "        circuit(ps)\n",
    "        return qml.expval(cost_h)\n",
    "\n",
    "    optimizer = qml.GradientDescentOptimizer()\n",
    "    param = [0.5] * depth\n",
    "    params = np.array([param, param], requires_grad=True)\n",
    "\n",
    "    for i in range(updates):\n",
    "        params = optimizer.step(cost_function, params)\n",
    "\n",
    "    print(\"Optimal Parameters\")\n",
    "    print(params)\n",
    "\n",
    "    @qml.qnode(dev)\n",
    "    def probability_circuit(gamma, alpha):\n",
    "        circuit([gamma, alpha])\n",
    "        return qml.probs(wires=wires)\n",
    "\n",
    "\n",
    "    probs = probability_circuit(params[0], params[1])\n",
    "\n",
    "    plt.style.use(\"seaborn\")\n",
    "    plt.bar(range(2 ** G.order()), probs)\n",
    "    plt.show()"
   ],
   "id": "41e0ba372fd1f6f8",
   "outputs": [],
   "execution_count": 20
  },
  {
   "metadata": {
    "ExecuteTime": {
     "end_time": "2025-01-26T22:12:59.404573Z",
     "start_time": "2025-01-26T22:12:58.654122Z"
    }
   },
   "cell_type": "code",
   "source": "qaoa_maxcut(graph, 3, 100)",
   "id": "9aaadf06aab8de67",
   "outputs": [
    {
     "ename": "DeviceError",
     "evalue": "Device does not exist. Make sure the required plugin is installed.",
     "output_type": "error",
     "traceback": [
      "\u001B[1;31m---------------------------------------------------------------------------\u001B[0m",
      "\u001B[1;31mDeviceError\u001B[0m                               Traceback (most recent call last)",
      "\u001B[1;32m~\\AppData\\Local\\Temp\\ipykernel_21432\\2665823434.py\u001B[0m in \u001B[0;36m<module>\u001B[1;34m\u001B[0m\n\u001B[1;32m----> 1\u001B[1;33m \u001B[0mqaoa_maxcut\u001B[0m\u001B[1;33m(\u001B[0m\u001B[0mgraph\u001B[0m\u001B[1;33m,\u001B[0m \u001B[1;36m3\u001B[0m\u001B[1;33m,\u001B[0m \u001B[1;36m100\u001B[0m\u001B[1;33m)\u001B[0m\u001B[1;33m\u001B[0m\u001B[1;33m\u001B[0m\u001B[0m\n\u001B[0m",
      "\u001B[1;32m~\\AppData\\Local\\Temp\\ipykernel_21432\\531319919.py\u001B[0m in \u001B[0;36mqaoa_maxcut\u001B[1;34m(g, depth, updates)\u001B[0m\n\u001B[0;32m     13\u001B[0m         \u001B[0mqml\u001B[0m\u001B[1;33m.\u001B[0m\u001B[0mlayer\u001B[0m\u001B[1;33m(\u001B[0m\u001B[0mqaoa_layer\u001B[0m\u001B[1;33m,\u001B[0m \u001B[0mdepth\u001B[0m\u001B[1;33m,\u001B[0m \u001B[0mps\u001B[0m\u001B[1;33m[\u001B[0m\u001B[1;36m0\u001B[0m\u001B[1;33m]\u001B[0m\u001B[1;33m,\u001B[0m \u001B[0mps\u001B[0m\u001B[1;33m[\u001B[0m\u001B[1;36m1\u001B[0m\u001B[1;33m]\u001B[0m\u001B[1;33m)\u001B[0m\u001B[1;33m\u001B[0m\u001B[1;33m\u001B[0m\u001B[0m\n\u001B[0;32m     14\u001B[0m \u001B[1;33m\u001B[0m\u001B[0m\n\u001B[1;32m---> 15\u001B[1;33m     \u001B[0mdev\u001B[0m \u001B[1;33m=\u001B[0m \u001B[0mqml\u001B[0m\u001B[1;33m.\u001B[0m\u001B[0mdevice\u001B[0m\u001B[1;33m(\u001B[0m\u001B[1;34m\"qulacs.simulator\"\u001B[0m\u001B[1;33m,\u001B[0m \u001B[0mwires\u001B[0m\u001B[1;33m=\u001B[0m\u001B[0mqubits\u001B[0m\u001B[1;33m)\u001B[0m\u001B[1;33m\u001B[0m\u001B[1;33m\u001B[0m\u001B[0m\n\u001B[0m\u001B[0;32m     16\u001B[0m \u001B[1;33m\u001B[0m\u001B[0m\n\u001B[0;32m     17\u001B[0m     \u001B[1;33m@\u001B[0m\u001B[0mqml\u001B[0m\u001B[1;33m.\u001B[0m\u001B[0mqnode\u001B[0m\u001B[1;33m(\u001B[0m\u001B[0mdev\u001B[0m\u001B[1;33m)\u001B[0m\u001B[1;33m\u001B[0m\u001B[1;33m\u001B[0m\u001B[0m\n",
      "\u001B[1;32m~\\anaconda3\\envs\\qcomp\\lib\\site-packages\\pennylane\\__init__.py\u001B[0m in \u001B[0;36mdevice\u001B[1;34m(name, *args, **kwargs)\u001B[0m\n\u001B[0;32m    316\u001B[0m         \u001B[1;32mreturn\u001B[0m \u001B[0mdev\u001B[0m\u001B[1;33m\u001B[0m\u001B[1;33m\u001B[0m\u001B[0m\n\u001B[0;32m    317\u001B[0m \u001B[1;33m\u001B[0m\u001B[0m\n\u001B[1;32m--> 318\u001B[1;33m     \u001B[1;32mraise\u001B[0m \u001B[0mDeviceError\u001B[0m\u001B[1;33m(\u001B[0m\u001B[1;34m\"Device does not exist. Make sure the required plugin is installed.\"\u001B[0m\u001B[1;33m)\u001B[0m\u001B[1;33m\u001B[0m\u001B[1;33m\u001B[0m\u001B[0m\n\u001B[0m\u001B[0;32m    319\u001B[0m \u001B[1;33m\u001B[0m\u001B[0m\n\u001B[0;32m    320\u001B[0m \u001B[1;33m\u001B[0m\u001B[0m\n",
      "\u001B[1;31mDeviceError\u001B[0m: Device does not exist. Make sure the required plugin is installed."
     ]
    }
   ],
   "execution_count": 21
  },
  {
   "metadata": {},
   "cell_type": "code",
   "outputs": [],
   "execution_count": null,
   "source": [
    "# datasets\n",
    "complete_graphs = []\n",
    "circular_ladder_graphs = []\n",
    "cycle_graphs = []\n",
    "ladder_graphs = []\n",
    "wheel_graphs = []\n",
    "star_graphs = []\n",
    "regular_graphs = [] # [maybe_regular_expander]"
   ],
   "id": "73bc73c747dbf4fa"
  },
  {
   "metadata": {
    "ExecuteTime": {
     "end_time": "2025-01-26T22:06:02.310028Z",
     "start_time": "2025-01-26T22:06:02.296353Z"
    }
   },
   "cell_type": "code",
   "source": "print([0.5] * 5)",
   "id": "5a1a236a52a65caf",
   "outputs": [
    {
     "name": "stdout",
     "output_type": "stream",
     "text": [
      "[0.5, 0.5, 0.5, 0.5, 0.5]\n"
     ]
    }
   ],
   "execution_count": 14
  },
  {
   "metadata": {},
   "cell_type": "markdown",
   "source": [
    "# References\n",
    "\n",
    "Code adapted from https://pennylane.ai/qml/demos/tutorial_qaoa_intro\n"
   ],
   "id": "cd73a840ca2387ab"
  },
  {
   "metadata": {},
   "cell_type": "code",
   "outputs": [],
   "execution_count": null,
   "source": "",
   "id": "c2a6c15a2c15593c"
  }
 ],
 "metadata": {
  "kernelspec": {
   "display_name": "Python 3",
   "language": "python",
   "name": "python3"
  },
  "language_info": {
   "codemirror_mode": {
    "name": "ipython",
    "version": 2
   },
   "file_extension": ".py",
   "mimetype": "text/x-python",
   "name": "python",
   "nbconvert_exporter": "python",
   "pygments_lexer": "ipython2",
   "version": "2.7.6"
  }
 },
 "nbformat": 4,
 "nbformat_minor": 5
}
